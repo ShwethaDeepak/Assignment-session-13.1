{
 "cells": [
  {
   "cell_type": "code",
   "execution_count": 11,
   "metadata": {},
   "outputs": [
    {
     "name": "stdout",
     "output_type": "stream",
     "text": [
      "               Airline  FlightNumber           From_To  RecentDelays\n",
      "0               KLM(!)       10045.0      LoNDon_paris      [23, 47]\n",
      "1    <Air France> (12)           NaN      MAdrid_miLAN            []\n",
      "2  (British Airways. )       10065.0  londON_StockhOlm  [24, 43, 87]\n",
      "3       12. Air France           NaN    Budapest_PaRis          [13]\n",
      "4          \"Swiss Air\"       10085.0   Brussels_londOn      [67, 32]\n"
     ]
    }
   ],
   "source": [
    "import numpy as np\n",
    "import pandas as pd\n",
    "df= pd.DataFrame({'From_To': ['LoNDon_paris', 'MAdrid_miLAN', 'londON_StockhOlm','Budapest_PaRis', 'Brussels_londOn'],\n",
    "'FlightNumber': [10045, np.nan, 10065, np.nan, 10085],\n",
    "'RecentDelays': [[23, 47], [], [24, 43, 87], [13], [67, 32]],\n",
    "'Airline': ['KLM(!)', '<Air France> (12)', '(British Airways. )',\n",
    "'12. Air France', '\"Swiss Air\"']})\n",
    "print(df)\n"
   ]
  },
  {
   "cell_type": "code",
   "execution_count": 4,
   "metadata": {},
   "outputs": [
    {
     "data": {
      "text/html": [
       "<div>\n",
       "<style>\n",
       "    .dataframe thead tr:only-child th {\n",
       "        text-align: right;\n",
       "    }\n",
       "\n",
       "    .dataframe thead th {\n",
       "        text-align: left;\n",
       "    }\n",
       "\n",
       "    .dataframe tbody tr th {\n",
       "        vertical-align: top;\n",
       "    }\n",
       "</style>\n",
       "<table border=\"1\" class=\"dataframe\">\n",
       "  <thead>\n",
       "    <tr style=\"text-align: right;\">\n",
       "      <th></th>\n",
       "      <th>Airline</th>\n",
       "      <th>FlightNumber</th>\n",
       "      <th>From_To</th>\n",
       "      <th>RecentDelays</th>\n",
       "    </tr>\n",
       "  </thead>\n",
       "  <tbody>\n",
       "    <tr>\n",
       "      <th>0</th>\n",
       "      <td>KLM(!)</td>\n",
       "      <td>10045</td>\n",
       "      <td>LoNDon_paris</td>\n",
       "      <td>[23, 47]</td>\n",
       "    </tr>\n",
       "    <tr>\n",
       "      <th>1</th>\n",
       "      <td>&lt;Air France&gt; (12)</td>\n",
       "      <td>10055</td>\n",
       "      <td>MAdrid_miLAN</td>\n",
       "      <td>[]</td>\n",
       "    </tr>\n",
       "    <tr>\n",
       "      <th>2</th>\n",
       "      <td>(British Airways. )</td>\n",
       "      <td>10065</td>\n",
       "      <td>londON_StockhOlm</td>\n",
       "      <td>[24, 43, 87]</td>\n",
       "    </tr>\n",
       "    <tr>\n",
       "      <th>3</th>\n",
       "      <td>12. Air France</td>\n",
       "      <td>10075</td>\n",
       "      <td>Budapest_PaRis</td>\n",
       "      <td>[13]</td>\n",
       "    </tr>\n",
       "    <tr>\n",
       "      <th>4</th>\n",
       "      <td>\"Swiss Air\"</td>\n",
       "      <td>10085</td>\n",
       "      <td>Brussels_londOn</td>\n",
       "      <td>[67, 32]</td>\n",
       "    </tr>\n",
       "  </tbody>\n",
       "</table>\n",
       "</div>"
      ],
      "text/plain": [
       "               Airline  FlightNumber           From_To  RecentDelays\n",
       "0               KLM(!)         10045      LoNDon_paris      [23, 47]\n",
       "1    <Air France> (12)         10055      MAdrid_miLAN            []\n",
       "2  (British Airways. )         10065  londON_StockhOlm  [24, 43, 87]\n",
       "3       12. Air France         10075    Budapest_PaRis          [13]\n",
       "4          \"Swiss Air\"         10085   Brussels_londOn      [67, 32]"
      ]
     },
     "execution_count": 4,
     "metadata": {},
     "output_type": "execute_result"
    }
   ],
   "source": [
    "# Some values in the the FlightNumber column are missing. These numbers are meant\n",
    "#to increase by 10 with each row so 10055 and 10075 need to be put in place. Fill in\n",
    "#these missing numbers and make the column an integer column (instead of a floatcolumn).\n",
    "\n",
    "import numpy as np\n",
    "import pandas as pd\n",
    "df= pd.DataFrame({'From_To': ['LoNDon_paris', 'MAdrid_miLAN', 'londON_StockhOlm','Budapest_PaRis', 'Brussels_londOn'],\n",
    "'FlightNumber': [10045, np.nan, 10065, np.nan, 10085],\n",
    "'RecentDelays': [[23, 47], [], [24, 43, 87], [13], [67, 32]],\n",
    "'Airline': ['KLM(!)', '<Air France> (12)', '(British Airways. )',\n",
    "'12. Air France', '\"Swiss Air\"']})\n",
    "df['FlightNumber'] = df['FlightNumber'].interpolate().astype(int)\n",
    "df"
   ]
  },
  {
   "cell_type": "code",
   "execution_count": 16,
   "metadata": {},
   "outputs": [
    {
     "data": {
      "text/plain": [
       "0        London_paris\n",
       "1        Madrid_milan\n",
       "2    London_stockholm\n",
       "3      Budapest_paris\n",
       "4     Brussels_london\n",
       "Name: From_To, dtype: object"
      ]
     },
     "execution_count": 16,
     "metadata": {},
     "output_type": "execute_result"
    }
   ],
   "source": [
    "# Notice how the capitalisation of the city names is all mixed up in this temporary DataFrame. \n",
    "# Standardise the strings so that only the first letter is uppercase (e.g.\"londON\" should become \"London\".)\n",
    "\n",
    "import numpy as np\n",
    "import pandas as pd\n",
    "\n",
    "temp_data = df.From_To.str.capitalize()\n",
    "temp_data"
   ]
  },
  {
   "cell_type": "code",
   "execution_count": 31,
   "metadata": {},
   "outputs": [
    {
     "data": {
      "text/html": [
       "<div>\n",
       "<style>\n",
       "    .dataframe thead tr:only-child th {\n",
       "        text-align: right;\n",
       "    }\n",
       "\n",
       "    .dataframe thead th {\n",
       "        text-align: left;\n",
       "    }\n",
       "\n",
       "    .dataframe tbody tr th {\n",
       "        vertical-align: top;\n",
       "    }\n",
       "</style>\n",
       "<table border=\"1\" class=\"dataframe\">\n",
       "  <thead>\n",
       "    <tr style=\"text-align: right;\">\n",
       "      <th></th>\n",
       "      <th>Airline</th>\n",
       "      <th>FlightNumber</th>\n",
       "      <th>RecentDelays</th>\n",
       "    </tr>\n",
       "  </thead>\n",
       "  <tbody>\n",
       "    <tr>\n",
       "      <th>0</th>\n",
       "      <td>KLM(!)</td>\n",
       "      <td>10045.0</td>\n",
       "      <td>[23, 47]</td>\n",
       "    </tr>\n",
       "    <tr>\n",
       "      <th>1</th>\n",
       "      <td>&lt;Air France&gt; (12)</td>\n",
       "      <td>NaN</td>\n",
       "      <td>[]</td>\n",
       "    </tr>\n",
       "    <tr>\n",
       "      <th>2</th>\n",
       "      <td>(British Airways. )</td>\n",
       "      <td>10065.0</td>\n",
       "      <td>[24, 43, 87]</td>\n",
       "    </tr>\n",
       "    <tr>\n",
       "      <th>3</th>\n",
       "      <td>12. Air France</td>\n",
       "      <td>NaN</td>\n",
       "      <td>[13]</td>\n",
       "    </tr>\n",
       "    <tr>\n",
       "      <th>4</th>\n",
       "      <td>\"Swiss Air\"</td>\n",
       "      <td>10085.0</td>\n",
       "      <td>[67, 32]</td>\n",
       "    </tr>\n",
       "  </tbody>\n",
       "</table>\n",
       "</div>"
      ],
      "text/plain": [
       "               Airline  FlightNumber  RecentDelays\n",
       "0               KLM(!)       10045.0      [23, 47]\n",
       "1    <Air France> (12)           NaN            []\n",
       "2  (British Airways. )       10065.0  [24, 43, 87]\n",
       "3       12. Air France           NaN          [13]\n",
       "4          \"Swiss Air\"       10085.0      [67, 32]"
      ]
     },
     "execution_count": 31,
     "metadata": {},
     "output_type": "execute_result"
    }
   ],
   "source": [
    "# Delete the From_To column from df and attach the temporary DataFrame from theprevious questions.\n",
    "df.drop('From_To', axis=1)"
   ]
  },
  {
   "cell_type": "code",
   "execution_count": 77,
   "metadata": {},
   "outputs": [
    {
     "name": "stdout",
     "output_type": "stream",
     "text": [
      "               Airline  FlightNumber  RecentDelays              data\n",
      "0               KLM(!)       10045.0      [23, 47]      London_paris\n",
      "1    <Air France> (12)           NaN            []      Madrid_milan\n",
      "2  (British Airways. )       10065.0  [24, 43, 87]  London_stockholm\n",
      "3       12. Air France           NaN          [13]    Budapest_paris\n",
      "4          \"Swiss Air\"       10085.0      [67, 32]   Brussels_london\n"
     ]
    }
   ],
   "source": [
    "#Delete the From_To column from df and attach the temporary DataFrame from the previous questions.\n",
    "df= pd.DataFrame({'FlightNumber': [10045, np.nan, 10065, np.nan, 10085],\n",
    "'RecentDelays': [[23, 47], [], [24, 43, 87], [13], [67, 32]],\n",
    "'Airline': ['KLM(!)', '<Air France> (12)', '(British Airways. )',\n",
    "'12. Air France', '\"Swiss Air\"']})\n",
    "temp_data = ('London_paris','Madrid_milan','London_stockholm','Budapest_paris','Brussels_london')\n",
    "df['data'] = temp_data\n",
    "print(df)"
   ]
  },
  {
   "cell_type": "code",
   "execution_count": null,
   "metadata": {},
   "outputs": [],
   "source": []
  },
  {
   "cell_type": "code",
   "execution_count": 80,
   "metadata": {},
   "outputs": [
    {
     "name": "stdout",
     "output_type": "stream",
     "text": [
      "               Airline  FlightNumber  RecentDelays              data  delay_1  \\\n",
      "0               KLM(!)       10045.0      [23, 47]      London_paris     23.0   \n",
      "1    <Air France> (12)           NaN            []      Madrid_milan     47.0   \n",
      "2  (British Airways. )       10065.0  [24, 43, 87]  London_stockholm      NaN   \n",
      "3       12. Air France           NaN          [13]    Budapest_paris      NaN   \n",
      "4          \"Swiss Air\"       10085.0      [67, 32]   Brussels_london      NaN   \n",
      "\n",
      "   delay_2  delay_3  delay_4  delay_5  \n",
      "0      NaN     24.0     13.0     67.0  \n",
      "1      NaN     43.0      NaN     32.0  \n",
      "2      NaN     87.0      NaN      NaN  \n",
      "3      NaN      NaN      NaN      NaN  \n",
      "4      NaN      NaN      NaN      NaN  \n"
     ]
    }
   ],
   "source": [
    "#In the RecentDelays column, the values have been entered into the DataFrame as a\n",
    "#list. We would like each first value in its own column, each second value in its own\n",
    "#column, and so on. If there isn't an Nth value, the value should be NaN.\n",
    "#Expand the Series of lists into a DataFrame named delays, rename the columns delay_1,\n",
    "#delay_2, etc. and replace the unwanted RecentDelays column in df with delays.\n",
    "\n",
    "import pandas as pd\n",
    "import numpy as np\n",
    "\n",
    "df['delay_1']= pd.Series([23, 47])\n",
    "df['delay_2']= pd.Series([])\n",
    "df['delay_3']= pd.Series([24, 43,87])\n",
    "df['delay_4']= pd.Series([13])\n",
    "df['delay_5']= pd.Series([67,32])\n",
    "\n",
    "\n",
    "\n",
    "print(df)"
   ]
  },
  {
   "cell_type": "code",
   "execution_count": 56,
   "metadata": {},
   "outputs": [
    {
     "name": "stdout",
     "output_type": "stream",
     "text": [
      "            From_To start end      From         To         1          2\n",
      "0      LoNDon_paris              LoNDon      paris    LoNDon      paris\n",
      "1      MAdrid_miLAN              MAdrid      miLAN    MAdrid      miLAN\n",
      "2  londON_StockhOlm              londON  StockhOlm    londON  StockhOlm\n",
      "3    Budapest_PaRis            Budapest      PaRis  Budapest      PaRis\n",
      "4   Brussels_londOn            Brussels     londOn  Brussels     londOn\n"
     ]
    }
   ],
   "source": [
    "#The From_To column would be better as two separate columns! Split each string on\n",
    "#the underscore delimiter _ to give a new temporary DataFrame with the correct values.\n",
    "#Assign the correct column names to this temporary DataFrame.\n",
    "\n",
    "import numpy as np\n",
    "import pandas as pd\n",
    "\n",
    "\n",
    "\n",
    "df['From'] = df.From_To.str.split('_').str.get(0)\n",
    "df['To'] = df.From_To.str.split('_').str.get(1)\n",
    "print(df)"
   ]
  },
  {
   "cell_type": "code",
   "execution_count": null,
   "metadata": {
    "collapsed": true
   },
   "outputs": [],
   "source": []
  },
  {
   "cell_type": "code",
   "execution_count": null,
   "metadata": {
    "collapsed": true
   },
   "outputs": [],
   "source": []
  }
 ],
 "metadata": {
  "kernelspec": {
   "display_name": "Python 3",
   "language": "python",
   "name": "python3"
  },
  "language_info": {
   "codemirror_mode": {
    "name": "ipython",
    "version": 3
   },
   "file_extension": ".py",
   "mimetype": "text/x-python",
   "name": "python",
   "nbconvert_exporter": "python",
   "pygments_lexer": "ipython3",
   "version": "3.6.3"
  }
 },
 "nbformat": 4,
 "nbformat_minor": 2
}
